{
 "cells": [
  {
   "cell_type": "code",
   "execution_count": 2,
   "id": "e4fd9912",
   "metadata": {},
   "outputs": [
    {
     "name": "stdout",
     "output_type": "stream",
     "text": [
      "Snake: 2\n",
      "Snake: 3\n",
      "Snake: 4\n",
      "Snake: 5\n",
      "Snake: 6\n",
      "Snake: 7\n"
     ]
    }
   ],
   "source": [
    "\"\"\"Snake, classic arcade game.\n",
    "Excercises\n",
    "1. How do you make the snake faster or slower?\n",
    "2. How can you make the snake go around the edges?\n",
    "3. How would you move the food?\n",
    "4. Change the snake to respond to arrow keys.\n",
    "\"\"\"\n",
    "\n",
    "from turtle import *\n",
    "from random import randrange\n",
    "from freegames import square, vector\n",
    "\n",
    "food = vector(0, 0)\n",
    "snake = [vector(10, 0)]\n",
    "aim = vector(0, -10)\n",
    "\n",
    "def change(x, y):\n",
    "    \"Change snake direction.\"\n",
    "    aim.x = x\n",
    "    aim.y = y\n",
    "\n",
    "def inside(head):\n",
    "    \"Return True if head inside boundaries.\"\n",
    "    return -200 < head.x < 190 and -200 < head.y < 190\n",
    "\n",
    "def move():\n",
    "    \"Move snake forward one segment.\"\n",
    "    head = snake[-1].copy()\n",
    "    head.move(aim)\n",
    "\n",
    "    if not inside(head) or head in snake:\n",
    "        square(head.x, head.y, 9, 'red')\n",
    "        update()\n",
    "        return\n",
    "\n",
    "    snake.append(head)\n",
    "\n",
    "    if head == food:\n",
    "        print('Snake:', len(snake))\n",
    "        food.x = randrange(-15, 15) * 10\n",
    "        food.y = randrange(-15, 15) * 10\n",
    "    else:\n",
    "        snake.pop(0)\n",
    "\n",
    "    clear()\n",
    "\n",
    "    for body in snake:\n",
    "        square(body.x, body.y, 9, 'black')\n",
    "\n",
    "    square(food.x, food.y, 9, 'green')\n",
    "    update()\n",
    "    ontimer(move, 100)\n",
    "\n",
    "setup(420, 420, 370, 0)\n",
    "hideturtle()\n",
    "tracer(False)\n",
    "listen()\n",
    "onkey(lambda: change(10, 0), 'Right')\n",
    "onkey(lambda: change(-10, 0), 'Left')\n",
    "onkey(lambda: change(0, 10), 'Up')\n",
    "onkey(lambda: change(0, -10), 'Down')\n",
    "move()\n",
    "done()"
   ]
  },
  {
   "cell_type": "code",
   "execution_count": null,
   "id": "925a9556",
   "metadata": {},
   "outputs": [],
   "source": [
    "pip install freegames"
   ]
  },
  {
   "cell_type": "code",
   "execution_count": 1,
   "id": "11bae732",
   "metadata": {},
   "outputs": [
    {
     "name": "stdout",
     "output_type": "stream",
     "text": [
      "Collecting turtle\n",
      "  Downloading turtle-0.0.2.tar.gz (11 kB)\n",
      "  Preparing metadata (setup.py): started\n",
      "  Preparing metadata (setup.py): finished with status 'error'\n",
      "Note: you may need to restart the kernel to use updated packages.\n"
     ]
    },
    {
     "name": "stderr",
     "output_type": "stream",
     "text": [
      "  error: subprocess-exited-with-error\n",
      "  \n",
      "  python setup.py egg_info did not run successfully.\n",
      "  exit code: 1\n",
      "  \n",
      "  [7 lines of output]\n",
      "  Traceback (most recent call last):\n",
      "    File \"<string>\", line 2, in <module>\n",
      "    File \"<pip-setuptools-caller>\", line 34, in <module>\n",
      "    File \"C:\\Users\\91735\\AppData\\Local\\Temp\\pip-install-nghzmxll\\turtle_1a906f506f1a45418a8b9addeba3f281\\setup.py\", line 40\n",
      "      except ValueError, ve:\n",
      "                       ^\n",
      "  SyntaxError: invalid syntax\n",
      "  [end of output]\n",
      "  \n",
      "  note: This error originates from a subprocess, and is likely not a problem with pip.\n",
      "error: metadata-generation-failed\n",
      "\n",
      "Encountered error while generating package metadata.\n",
      "\n",
      "See above for output.\n",
      "\n",
      "note: This is an issue with the package mentioned above, not pip.\n",
      "hint: See above for details.\n",
      "\n",
      "[notice] A new release of pip available: 22.3 -> 23.0.1\n",
      "[notice] To update, run: python.exe -m pip install --upgrade pip\n"
     ]
    }
   ],
   "source": [
    "pip install turtle"
   ]
  },
  {
   "cell_type": "code",
   "execution_count": null,
   "id": "e4bb5673",
   "metadata": {},
   "outputs": [],
   "source": []
  }
 ],
 "metadata": {
  "kernelspec": {
   "display_name": "Python 3 (ipykernel)",
   "language": "python",
   "name": "python3"
  },
  "language_info": {
   "codemirror_mode": {
    "name": "ipython",
    "version": 3
   },
   "file_extension": ".py",
   "mimetype": "text/x-python",
   "name": "python",
   "nbconvert_exporter": "python",
   "pygments_lexer": "ipython3",
   "version": "3.9.7"
  }
 },
 "nbformat": 4,
 "nbformat_minor": 5
}
